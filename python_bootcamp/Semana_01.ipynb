{
 "cells": [
  {
   "cell_type": "markdown",
   "metadata": {},
   "source": [
    "# Week 01"
   ]
  },
  {
   "cell_type": "code",
   "execution_count": 3,
   "metadata": {},
   "outputs": [
    {
     "name": "stdout",
     "output_type": "stream",
     "text": [
      "Hola,¡Gente!\n"
     ]
    }
   ],
   "source": [
    "# this is python\n",
    "print(\"Hola,¡Gente!\")"
   ]
  },
  {
   "cell_type": "code",
   "execution_count": 4,
   "metadata": {},
   "outputs": [
    {
     "name": "stdout",
     "output_type": "stream",
     "text": [
      "¡Felicitaciones! adivinaste.\n",
      "¡Te tomó 14 intentos!\n"
     ]
    }
   ],
   "source": [
    "#Adivinanzas\n",
    "from random import randint\n",
    "from IPython.display import clear_output\n",
    "guessed = False\n",
    "number = randint(0, 100)\n",
    "guesses = 0\n",
    "while not guessed:\n",
    "    ans = input(\"Intenta adivinar el número que estoy pensando\")\n",
    "    guesses += 1\n",
    "    clear_output()\n",
    "    if int(ans) == number:\n",
    "        print(\"¡Felicitaciones! adivinaste.\")\n",
    "        print(\"¡Te tomó {} intentos!\".format(guesses))\n",
    "        break\n",
    "    elif int(ans) > number:\n",
    "        print(\"El número es menor al que intentaste.\")\n",
    "    elif int(ans) < number:\n",
    "        print(\"El número es mayor al que intentaste.\")"
   ]
  },
  {
   "cell_type": "code",
   "execution_count": null,
   "metadata": {},
   "outputs": [],
   "source": []
  }
 ],
 "metadata": {
  "kernelspec": {
   "display_name": "Python 3",
   "language": "python",
   "name": "python3"
  },
  "language_info": {
   "codemirror_mode": {
    "name": "ipython",
    "version": 3
   },
   "file_extension": ".py",
   "mimetype": "text/x-python",
   "name": "python",
   "nbconvert_exporter": "python",
   "pygments_lexer": "ipython3",
   "version": "3.12.1"
  }
 },
 "nbformat": 4,
 "nbformat_minor": 4
}
