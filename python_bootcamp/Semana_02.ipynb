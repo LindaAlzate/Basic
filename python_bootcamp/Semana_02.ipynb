{
 "cells": [
  {
   "cell_type": "markdown",
   "metadata": {},
   "source": [
    "# Comentarios y tipos básicos de datos"
   ]
  },
  {
   "cell_type": "code",
   "execution_count": 1,
   "metadata": {},
   "outputs": [],
   "source": [
    "# Esto es un comentario"
   ]
  },
  {
   "cell_type": "code",
   "execution_count": 2,
   "metadata": {
    "scrolled": false
   },
   "outputs": [
    {
     "name": "stdout",
     "output_type": "stream",
     "text": [
      "¡Hola!\n"
     ]
    }
   ],
   "source": [
    "print(\"¡Hola!\") # Esto también es un comentario"
   ]
  },
  {
   "cell_type": "code",
   "execution_count": 3,
   "metadata": {},
   "outputs": [
    {
     "name": "stdout",
     "output_type": "stream",
     "text": [
      "¡Hola!\n"
     ]
    }
   ],
   "source": [
    "\"\"\" \n",
    "        Esto es un comentario de varias lineas.\n",
    "        Así.\n",
    "\"\"\"\n",
    "print(\"¡Hola!\")"
   ]
  },
  {
   "cell_type": "code",
   "execution_count": 4,
   "metadata": {},
   "outputs": [
    {
     "name": "stdout",
     "output_type": "stream",
     "text": [
      "2\n",
      "10\n"
     ]
    }
   ],
   "source": [
    "# Son enteros:\n",
    "print(2)\n",
    "print(10)"
   ]
  },
  {
   "cell_type": "code",
   "execution_count": 6,
   "metadata": {},
   "outputs": [
    {
     "name": "stdout",
     "output_type": "stream",
     "text": [
      "10.953\n",
      "8.0\n"
     ]
    }
   ],
   "source": [
    "# Son de coma flotante:\n",
    "print(10.953)\n",
    "print(8.0)\n"
   ]
  },
  {
   "cell_type": "code",
   "execution_count": 7,
   "metadata": {},
   "outputs": [
    {
     "name": "stdout",
     "output_type": "stream",
     "text": [
      "True\n",
      "False\n"
     ]
    }
   ],
   "source": [
    "# Son booleanos:\n",
    "print(True)\n",
    "print(False)"
   ]
  },
  {
   "cell_type": "code",
   "execution_count": null,
   "metadata": {},
   "outputs": [
    {
     "name": "stdout",
     "output_type": "stream",
     "text": [
      "\n",
      " \n",
      "'there's a snake on my boot!'\n",
      "True\n"
     ]
    }
   ],
   "source": [
    "# Son string (cuerdas):\n",
    "print(\"\")\n",
    "print(\" \")\n",
    "print(\"there's a snake on my boot!\")\n",
    "print('True')"
   ]
  },
  {
   "cell_type": "code",
   "execution_count": 14,
   "metadata": {},
   "outputs": [
    {
     "name": "stdout",
     "output_type": "stream",
     "text": [
      "<class 'int'>\n",
      "<class 'float'>\n",
      "<class 'bool'>\n",
      "<class 'str'>\n"
     ]
    }
   ],
   "source": [
    "print(type(3))\n",
    "print(type(3.5))\n",
    "print(type(True))\n",
    "print(type('¡Hola!'))"
   ]
  },
  {
   "cell_type": "markdown",
   "metadata": {},
   "source": [
    "# Variables"
   ]
  },
  {
   "cell_type": "code",
   "execution_count": 15,
   "metadata": {},
   "outputs": [
    {
     "name": "stdout",
     "output_type": "stream",
     "text": [
      "5 8.4\n"
     ]
    }
   ],
   "source": [
    "num1 = 5\n",
    "num2 = 8.4\n",
    "print(num1, num2)"
   ]
  },
  {
   "cell_type": "code",
   "execution_count": 16,
   "metadata": {},
   "outputs": [
    {
     "name": "stdout",
     "output_type": "stream",
     "text": [
      "True\n"
     ]
    }
   ],
   "source": [
    "switch = True\n",
    "print(switch)"
   ]
  },
  {
   "cell_type": "code",
   "execution_count": 17,
   "metadata": {},
   "outputs": [
    {
     "name": "stdout",
     "output_type": "stream",
     "text": [
      "John Smith 9\n"
     ]
    }
   ],
   "source": [
    "# Guardando strings en variables:\n",
    "nombre = 'John Smith'\n",
    "num_favorito = '9'\n",
    "print(nombre, num_favorito)"
   ]
  },
  {
   "cell_type": "code",
   "execution_count": 18,
   "metadata": {},
   "outputs": [
    {
     "name": "stdout",
     "output_type": "stream",
     "text": [
      "13.4\n"
     ]
    }
   ],
   "source": [
    "#Usando dos variables para crear otra:\n",
    "resultado = num1 + num2\n",
    "print(resultado)"
   ]
  },
  {
   "cell_type": "code",
   "execution_count": 19,
   "metadata": {},
   "outputs": [
    {
     "name": "stdout",
     "output_type": "stream",
     "text": [
      "14.4\n",
      "72.0\n"
     ]
    }
   ],
   "source": [
    "# Suma, resta, multiplicación y división de una variable\n",
    "resultado += 1 #igual que decir resultado = resultado + 1\n",
    "print(resultado)\n",
    "resultado *= num1 #igual que decir resultado = resultado*num1\n",
    "print(resultado)"
   ]
  },
  {
   "cell_type": "code",
   "execution_count": 20,
   "metadata": {},
   "outputs": [
    {
     "name": "stdout",
     "output_type": "stream",
     "text": [
      "John\n",
      "Sam\n"
     ]
    }
   ],
   "source": [
    "#Sobreescribiendo variables:\n",
    "nombre = 'John'\n",
    "print(nombre)\n",
    "nombre = 'Sam'\n",
    "print(nombre)"
   ]
  },
  {
   "cell_type": "code",
   "execution_count": 23,
   "metadata": {},
   "outputs": [
    {
     "name": "stdout",
     "output_type": "stream",
     "text": [
      "30\n",
      "3354.0764\n"
     ]
    }
   ],
   "source": [
    "#Ejercicio:\n",
    "x = 3\n",
    "y = 10\n",
    "resultado = x*y\n",
    "print (resultado)\n",
    "Area = 245.54 * 13.66\n",
    "print(Area)"
   ]
  },
  {
   "cell_type": "markdown",
   "metadata": {},
   "source": [
    "# Trabajando con Strings"
   ]
  },
  {
   "cell_type": "code",
   "execution_count": 26,
   "metadata": {},
   "outputs": [
    {
     "name": "stdout",
     "output_type": "stream",
     "text": [
      "John Smith\n",
      "John Smith\n"
     ]
    }
   ],
   "source": [
    "#Concatenando cadenas:\n",
    "nombre = 'John' + ' ' + 'Smith'\n",
    "print(nombre)\n",
    "#Usando variables\n",
    "primer_nombre = 'John'\n",
    "segundo_nombre = 'Smith'\n",
    "nombre_completo = primer_nombre + ' ' + segundo_nombre\n",
    "print(nombre_completo)"
   ]
  },
  {
   "cell_type": "code",
   "execution_count": 27,
   "metadata": {},
   "outputs": [
    {
     "name": "stdout",
     "output_type": "stream",
     "text": [
      "Hola mi nombre es John y tengo 28 años\n"
     ]
    }
   ],
   "source": [
    "#Insertando variables a imprimir:\n",
    "nombre = 'John'\n",
    "print('Hola mi nombre es {} y tengo {} años'.format(nombre, 28))"
   ]
  },
  {
   "cell_type": "code",
   "execution_count": 28,
   "metadata": {
    "scrolled": true
   },
   "outputs": [
    {
     "name": "stdout",
     "output_type": "stream",
     "text": [
      "Hola mi nombre es John y tengo 28 años\n"
     ]
    }
   ],
   "source": [
    "#f Strings (funciona desde python 3.7 en adelante)\n",
    "nombre = 'John'\n",
    "print(f'Hola mi nombre es {nombre} y tengo {28} años')"
   ]
  },
  {
   "cell_type": "code",
   "execution_count": 31,
   "metadata": {
    "scrolled": true
   },
   "outputs": [
    {
     "name": "stdout",
     "output_type": "stream",
     "text": [
      "Hola mi nombre es John y tengo 28 años\n"
     ]
    }
   ],
   "source": [
    "#f Strings (Python 2)\n",
    "primer_nombre = 'John'\n",
    "print('Hola mi nombre es %s y tengo %d años' %(primer_nombre, 28))"
   ]
  },
  {
   "cell_type": "code",
   "execution_count": 35,
   "metadata": {},
   "outputs": [
    {
     "name": "stdout",
     "output_type": "stream",
     "text": [
      "H\n",
      "o\n",
      "l\n",
      "a\n"
     ]
    }
   ],
   "source": [
    "#Índices en cadenas:\n",
    "palabra = 'Hola'\n",
    "print(palabra[0])\n",
    "print(palabra[1])\n",
    "print(palabra[-2])\n",
    "print(palabra[-1])"
   ]
  },
  {
   "cell_type": "code",
   "execution_count": 51,
   "metadata": {},
   "outputs": [
    {
     "name": "stdout",
     "output_type": "stream",
     "text": [
      "Ho\n",
      "Hl\n"
     ]
    }
   ],
   "source": [
    "# Cortando cadenas:\n",
    "print(palabra[0:2])\n",
    "print(palabra[0:4:2])"
   ]
  },
  {
   "cell_type": "markdown",
   "metadata": {},
   "source": [
    "# Manipulando cadenas"
   ]
  },
  {
   "cell_type": "code",
   "execution_count": 55,
   "metadata": {},
   "outputs": [
    {
     "name": "stdout",
     "output_type": "stream",
     "text": [
      "John Smith\n",
      "JOHN SMITH\n",
      "john smith\n"
     ]
    }
   ],
   "source": [
    "#Primera letra en mayúscula:\n",
    "nombre = 'joHn smIth'\n",
    "print(nombre.title())\n",
    "print(nombre.upper())\n",
    "print(nombre.lower())"
   ]
  },
  {
   "cell_type": "code",
   "execution_count": 60,
   "metadata": {},
   "outputs": [
    {
     "name": "stdout",
     "output_type": "stream",
     "text": [
      "Hola! careverga\n",
      "Hola! careberga\n",
      "Hola! careverga\n"
     ]
    }
   ],
   "source": [
    "#Reemplazando en cadenas:\n",
    "palabras = 'Hola! careberga'\n",
    "print(palabras.replace('b','v'))\n",
    "print(palabras)\n",
    "\n",
    "#Para almacenar la modificación\n",
    "palabras = palabras.replace('b','v')\n",
    "print(palabras)"
   ]
  },
  {
   "cell_type": "code",
   "execution_count": 64,
   "metadata": {},
   "outputs": [
    {
     "name": "stdout",
     "output_type": "stream",
     "text": [
      "10\n"
     ]
    }
   ],
   "source": [
    "#Encontrar el índice inicial del término a buscar:\n",
    "s = 'Look over that way'\n",
    "print(s.find('that'))"
   ]
  },
  {
   "cell_type": "code",
   "execution_count": 69,
   "metadata": {},
   "outputs": [
    {
     "name": "stdout",
     "output_type": "stream",
     "text": [
      "    John Smith  \n",
      "John Smith\n",
      "John\n",
      "John*****\n",
      "***John\n"
     ]
    }
   ],
   "source": [
    "#Remover de una cadena:\n",
    "nombre1 = '    John Smith  ' \n",
    "print(nombre1)\n",
    "nombre2 = '***John*****'\n",
    "print(nombre1.strip(' '))\n",
    "print(nombre2.strip('*'))\n",
    "print(nombre2.lstrip('*'))\n",
    "print(nombre2.rstrip('*'))"
   ]
  },
  {
   "cell_type": "code",
   "execution_count": 75,
   "metadata": {},
   "outputs": [
    {
     "name": "stdout",
     "output_type": "stream",
     "text": [
      "['éstas', 'palabras', 'están', 'separadas', 'por', 'espacios']\n",
      "['éstas', 'con', 'asteríscos']\n"
     ]
    }
   ],
   "source": [
    "#Convertir una cadena en una lista de palabras:\n",
    "s = 'éstas palabras están separadas por espacios'\n",
    "print(s.split())\n",
    "s2 = 'éstas*con*asteríscos'\n",
    "print(s2.split('*'))"
   ]
  },
  {
   "cell_type": "code",
   "execution_count": 76,
   "metadata": {},
   "outputs": [
    {
     "name": "stdout",
     "output_type": "stream",
     "text": [
      "Help on built-in function strip:\n",
      "\n",
      "strip(chars=None, /) method of builtins.str instance\n",
      "    Return a copy of the string with leading and trailing whitespace removed.\n",
      "    \n",
      "    If chars is given and not None, remove characters in chars instead.\n",
      "\n"
     ]
    }
   ],
   "source": [
    "help(''.strip)"
   ]
  },
  {
   "cell_type": "markdown",
   "metadata": {},
   "source": [
    "# Proyecto: Imprimiendo recibos"
   ]
  },
  {
   "cell_type": "code",
   "execution_count": 101,
   "metadata": {},
   "outputs": [],
   "source": [
    "#Productos y precios\n",
    "p1_nombre, p1_precio = 'Libros', 49.95\n",
    "p2_nombre, p2_precio = 'CPU', 579.99\n",
    "p3_nombre, p3_precio = 'Monitor', 124.89"
   ]
  },
  {
   "cell_type": "code",
   "execution_count": 80,
   "metadata": {},
   "outputs": [],
   "source": [
    "#Nombre e información de la empresa\n",
    "nombre_empresa = 'programando fracasos, ltda.'\n",
    "direccion_empresa = 'Calle Bazuco 101-69'\n",
    "ciudad_empresa = 'Tripalarga, Sudaca.'"
   ]
  },
  {
   "cell_type": "code",
   "execution_count": 98,
   "metadata": {},
   "outputs": [],
   "source": [
    "#Mensaje al pie\n",
    "mensaje = '¡Gracias por llevarse esta mierda!'"
   ]
  },
  {
   "cell_type": "code",
   "execution_count": 104,
   "metadata": {},
   "outputs": [
    {
     "name": "stdout",
     "output_type": "stream",
     "text": [
      "**************************************************\n",
      "\t\tProgramando Fracasos, Ltda.\n",
      "\t\tCalle Bazuco 101-69\n",
      "\t\tTripalarga, Sudaca.\n",
      "--------------------------------------------------\n",
      "\tProducto\tPrecio\n",
      "\tLibros\t\t$49.95\n",
      "\tCPU\t\t$579.99\n",
      "\tMonitor\t\t$124.89\n",
      "--------------------------------------------------\n",
      "\t\t\tTotal\n",
      "\t\t\t$754.83\n",
      "--------------------------------------------------\n",
      "\n",
      "\t¡Gracias por llevarse esta mierda!\n",
      "\n",
      "**************************************************\n"
     ]
    }
   ],
   "source": [
    "#Borde superior\n",
    "print('*'*50)\n",
    "#Mostrar información de empresa\n",
    "print('\\t\\t{}'.format(nombre_empresa.title())) # \\t --> mete tabulación // \\n ---> nueva línea\n",
    "print('\\t\\t{}'.format(direccion_empresa))\n",
    "print('\\t\\t{}'.format(ciudad_empresa))\n",
    "print('-'*50)\n",
    "#Encabezado de la sección de objetos\n",
    "print('\\tProducto\\tPrecio')\n",
    "print('\\t{}\\t\\t${}'.format(p1_nombre, p1_precio))\n",
    "print('\\t{}\\t\\t${}'.format(p2_nombre, p2_precio))\n",
    "print('\\t{}\\t\\t${}'.format(p3_nombre, p3_precio))\n",
    "print('-'*50)\n",
    "#Encabezado sección 'total'\n",
    "print('\\t\\t\\tTotal')\n",
    "total = p1_precio + p2_precio + p3_precio\n",
    "print('\\t\\t\\t${}'.format(total))\n",
    "print('-'*50)\n",
    "print('\\n\\t{}\\n'.format(mensaje))\n",
    "print('*'*50)"
   ]
  },
  {
   "cell_type": "code",
   "execution_count": null,
   "metadata": {},
   "outputs": [],
   "source": []
  }
 ],
 "metadata": {
  "kernelspec": {
   "display_name": "Python 3",
   "language": "python",
   "name": "python3"
  },
  "language_info": {
   "codemirror_mode": {
    "name": "ipython",
    "version": 3
   },
   "file_extension": ".py",
   "mimetype": "text/x-python",
   "name": "python",
   "nbconvert_exporter": "python",
   "pygments_lexer": "ipython3",
   "version": "3.12.1"
  }
 },
 "nbformat": 4,
 "nbformat_minor": 4
}
