{
  "cells": [
    {
      "cell_type": "markdown",
      "metadata": {},
      "source": [
        "## Ejercicio: Mis primeras variables\n",
        "\n",
        "1. Crea una variable llamada `nombre` y asígnale tu nombre.\n",
        "2. Crea una variable llamada `edad` y asígnale tu edad.\n",
        "3. Crea una variable llamada `ciudad` y asígnale el nombre de tu ciudad.\n",
        "4. Usa `print()` para mostrar un mensaje como:\n",
        "\n",
        "   Hola, me llamo [nombre], tengo [edad] años y vivo en [ciudad].\n",
        "\n",
        "---"
      ]
    },
    {
      "cell_type": "code",
      "execution_count": 9,
      "metadata": {
        "colab": {},
        "colab_type": "code",
        "id": "B3D6b_cRZATo"
      },
      "outputs": [
        {
          "name": "stdout",
          "output_type": "stream",
          "text": [
            "Hola gente, mi nombre es Linda, mi edad es 25 soy de Medellín\n"
          ]
        }
      ],
      "source": [
        "nombre = \"Linda\"\n",
        "edad = 25\n",
        "ciudad = \"Medellín\"\n",
        "print(f\"Hola gente, mi nombre es {nombre}, mi edad es {edad} soy de {ciudad}\")"
      ]
    },
    {
      "cell_type": "markdown",
      "metadata": {},
      "source": [
        "### Ejercicio extra:\n",
        "\n",
        "Crea tres variables más:\n",
        "- `profesion` (por ejemplo: \"estudiante\", \"ingeniero/a\", etc.)\n",
        "- `hobby` (tu pasatiempo favorito)\n",
        "- `color_favorito` (tu color favorito)\n",
        "\n",
        "Muestra un mensaje usando todas las variables."
      ]
    },
    {
      "cell_type": "code",
      "execution_count": 11,
      "metadata": {},
      "outputs": [],
      "source": [
        "profesion = \"Mujer fuerte\"\n",
        "pasatiempo = \"Bailar\"\n",
        "colorf = \"Rosado\""
      ]
    },
    {
      "cell_type": "code",
      "execution_count": 12,
      "metadata": {},
      "outputs": [
        {
          "name": "stdout",
          "output_type": "stream",
          "text": [
            "Soy Mujer fuerte, me encanta Bailar en la calle, y siempre voy vestida de Rosado\n"
          ]
        }
      ],
      "source": [
        "print(f\"Soy {profesion}, me encanta {pasatiempo} en la calle, y siempre voy vestida de {colorf}\")"
      ]
    },
    {
      "cell_type": "markdown",
      "metadata": {},
      "source": [
        "### ¡Último ejercicio de práctica!\n",
        "\n",
        "Crea un programa que guarde en variables el nombre de tu comida favorita, tu animal favorito y tu canción favorita.\n",
        "\n",
        "Luego, muestra un mensaje usando todas esas variables. Por ejemplo:\n",
        "\n",
        "¡Mi comida favorita es [comida], me encantan los [animal] y no paro de escuchar '[canción]'!\n",
        "\n",
        "\n",
        "¡Intenta hacerlo tú solo! Si necesitas ayuda, aquí estoy para apoyarte."
      ]
    },
    {
      "cell_type": "code",
      "execution_count": 13,
      "metadata": {},
      "outputs": [],
      "source": [
        "conidaf = \"pizza de pepperoni\"\n",
        "lugar = \"La candelaria\"\n",
        "artista = \"Willy Colón\""
      ]
    },
    {
      "cell_type": "code",
      "execution_count": null,
      "metadata": {},
      "outputs": [
        {
          "name": "stdout",
          "output_type": "stream",
          "text": [
            "Ayer estuve en La candelaria y de repente escuche la voz de Willy Colón era real, Willy Colón habia llegado a Colombia y estaba comiendo pizza de pepperoni junto a mi.\n"
          ]
        },
        {
          "data": {
            "text/plain": [
              "(None,)"
            ]
          },
          "execution_count": 16,
          "metadata": {},
          "output_type": "execute_result"
        }
      ],
      "source": [
        "print(f\"Ayer estuve en {lugar} y de repente escuche la voz de {artista} era real, {artista} habia llegado a Colombia y estaba comiendo {conidaf} junto a mi.\")\n"
      ]
    },
    {
      "cell_type": "markdown",
      "metadata": {},
      "source": [
        "### Reto extra: ¡Crea tu historia loca!\n",
        "\n",
        "Imagina que eres el protagonista de una aventura. Crea variables para tu superpoder, el nombre de tu mascota mágica y el lugar donde ocurre la historia.\n",
        "\n",
        "Luego, usa `print()` para contar una historia divertida usando esas variables.\n",
        "\n",
        "Por ejemplo:\n",
        "\n",
        "Un día, usando mi superpoder de [superpoder], junto a mi mascota [mascota] salvamos el mundo en [lugar].\n",
        "\n",
        "¡Deja volar tu imaginación!"
      ]
    },
    {
      "cell_type": "code",
      "execution_count": 31,
      "metadata": {},
      "outputs": [],
      "source": [
        "superpoder = \"Atraversar paredes\"\n",
        "roome = \"Linda\"\n",
        "animal = \"Lorito\"\n",
        "pais = \"Afganistán\"\n",
        "accion = \"Cocinar\"\n",
        "sentimiento = \"pereza\"\n",
        "\n"
      ]
    },
    {
      "cell_type": "code",
      "execution_count": 33,
      "metadata": {},
      "outputs": [
        {
          "name": "stdout",
          "output_type": "stream",
          "text": [
            "Esta mañana me desperté con la habilidad de Atraversar paredes. Cuando bajé a la cocina, descubrí que Linda se había convertido en un Lorito. Con mi habilidad de Atraversar paredes nos fuimos juntos a Afganistán y allí Cocinar, y Linda volvió a la normalidad. Y allí descubrí que pereza es lo que más importa en la vida.\n"
          ]
        }
      ],
      "source": [
        "\n",
        "print(f'Esta mañana me desperté con la habilidad de {superpoder}. Cuando bajé a la cocina, descubrí que {roome} se había convertido en un {animal}. Con mi habilidad de {superpoder} nos fuimos juntos a {pais} y allí {accion}, y {roome} volvió a la normalidad. Y allí descubrí que {sentimiento} es lo que más importa en la vida.')"
      ]
    }
  ],
  "metadata": {
    "colab": {
      "authorship_tag": "ABX9TyMxT7hkCTuB5eROhW4Fj5Uu",
      "include_colab_link": true,
      "name": "Katas",
      "provenance": []
    },
    "kernelspec": {
      "display_name": "Python 3",
      "name": "python3"
    },
    "language_info": {
      "codemirror_mode": {
        "name": "ipython",
        "version": 3
      },
      "file_extension": ".py",
      "mimetype": "text/x-python",
      "name": "python",
      "nbconvert_exporter": "python",
      "pygments_lexer": "ipython3",
      "version": "3.12.1"
    }
  },
  "nbformat": 4,
  "nbformat_minor": 0
}
